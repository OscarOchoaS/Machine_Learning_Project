{
 "cells": [
  {
   "cell_type": "code",
   "execution_count": 1,
   "metadata": {},
   "outputs": [],
   "source": [
    "import pandas as pd\n",
    "import numpy as np\n",
    "import seaborn as sns\n",
    "import matplotlib.pyplot as plt\n",
    "import sklearn as skl;\n",
    "from sklearn import preprocessing\n",
    "from sklearn.model_selection import train_test_split\n",
    "from sklearn.linear_model import LogisticRegression\n",
    "from sklearn.metrics import accuracy_score\n",
    "\n",
    "%matplotlib inline\n",
    "\n",
    "import os, sys\n",
    "\n",
    "module_path = os.path.abspath(os.path.join('..'))\n",
    "if module_path not in sys.path:\n",
    "    sys.path.append(module_path)\n",
    "    \n",
    "# Import library from my src folder    \n",
    "from src.helpers import identify_highly_correlated_features, one_hot, identify_low_variance_features, identify_missing_data, feature_importance_plot\n"
   ]
  },
  {
   "cell_type": "markdown",
   "metadata": {},
   "source": [
    "# Explore Data\n"
   ]
  },
  {
   "cell_type": "code",
   "execution_count": 2,
   "metadata": {},
   "outputs": [],
   "source": [
    "# Read the data\n",
    "\n",
    "songs_data = pd.read_csv(\"../data/songs_data.csv\")"
   ]
  },
  {
   "cell_type": "code",
   "execution_count": 3,
   "metadata": {},
   "outputs": [
    {
     "data": {
      "text/html": [
       "<div>\n",
       "<style scoped>\n",
       "    .dataframe tbody tr th:only-of-type {\n",
       "        vertical-align: middle;\n",
       "    }\n",
       "\n",
       "    .dataframe tbody tr th {\n",
       "        vertical-align: top;\n",
       "    }\n",
       "\n",
       "    .dataframe thead th {\n",
       "        text-align: right;\n",
       "    }\n",
       "</style>\n",
       "<table border=\"1\" class=\"dataframe\">\n",
       "  <thead>\n",
       "    <tr style=\"text-align: right;\">\n",
       "      <th></th>\n",
       "      <th>track_id</th>\n",
       "      <th>track_name</th>\n",
       "      <th>track_artist</th>\n",
       "      <th>track_popularity</th>\n",
       "      <th>genre</th>\n",
       "      <th>danceability</th>\n",
       "      <th>energy</th>\n",
       "      <th>key</th>\n",
       "      <th>loudness</th>\n",
       "      <th>mode</th>\n",
       "      <th>speechiness</th>\n",
       "      <th>acousticness</th>\n",
       "      <th>instrumentalness</th>\n",
       "      <th>liveness</th>\n",
       "      <th>valence</th>\n",
       "      <th>tempo</th>\n",
       "      <th>duration_ms</th>\n",
       "    </tr>\n",
       "  </thead>\n",
       "  <tbody>\n",
       "    <tr>\n",
       "      <th>0</th>\n",
       "      <td>6ho0GyrWZN3mhi9zVRW7xi</td>\n",
       "      <td>Losing It</td>\n",
       "      <td>FISHER</td>\n",
       "      <td>79</td>\n",
       "      <td>edm</td>\n",
       "      <td>0.760</td>\n",
       "      <td>0.964</td>\n",
       "      <td>2</td>\n",
       "      <td>-5.844</td>\n",
       "      <td>1</td>\n",
       "      <td>0.0576</td>\n",
       "      <td>0.001820</td>\n",
       "      <td>0.7000</td>\n",
       "      <td>0.0974</td>\n",
       "      <td>0.641</td>\n",
       "      <td>125.000</td>\n",
       "      <td>248036</td>\n",
       "    </tr>\n",
       "    <tr>\n",
       "      <th>1</th>\n",
       "      <td>4bYJKHG6KLdGzHQRJMaFc8</td>\n",
       "      <td>Rock And Roll All Nite</td>\n",
       "      <td>KISS</td>\n",
       "      <td>3</td>\n",
       "      <td>rock</td>\n",
       "      <td>0.581</td>\n",
       "      <td>0.831</td>\n",
       "      <td>1</td>\n",
       "      <td>-8.045</td>\n",
       "      <td>1</td>\n",
       "      <td>0.1070</td>\n",
       "      <td>0.045800</td>\n",
       "      <td>0.0000</td>\n",
       "      <td>0.0782</td>\n",
       "      <td>0.885</td>\n",
       "      <td>144.684</td>\n",
       "      <td>168160</td>\n",
       "    </tr>\n",
       "    <tr>\n",
       "      <th>2</th>\n",
       "      <td>1VGlMYqPO1LHyclvfIMvWI</td>\n",
       "      <td>Snälla bli min (Hjalm Remix)</td>\n",
       "      <td>Robin Lukovic</td>\n",
       "      <td>0</td>\n",
       "      <td>edm</td>\n",
       "      <td>0.661</td>\n",
       "      <td>0.760</td>\n",
       "      <td>8</td>\n",
       "      <td>-4.769</td>\n",
       "      <td>1</td>\n",
       "      <td>0.0268</td>\n",
       "      <td>0.000406</td>\n",
       "      <td>0.0407</td>\n",
       "      <td>0.6110</td>\n",
       "      <td>0.439</td>\n",
       "      <td>99.993</td>\n",
       "      <td>271238</td>\n",
       "    </tr>\n",
       "  </tbody>\n",
       "</table>\n",
       "</div>"
      ],
      "text/plain": [
       "                 track_id                    track_name   track_artist  \\\n",
       "0  6ho0GyrWZN3mhi9zVRW7xi                     Losing It         FISHER   \n",
       "1  4bYJKHG6KLdGzHQRJMaFc8        Rock And Roll All Nite           KISS   \n",
       "2  1VGlMYqPO1LHyclvfIMvWI  Snälla bli min (Hjalm Remix)  Robin Lukovic   \n",
       "\n",
       "   track_popularity genre  danceability  energy  key  loudness  mode  \\\n",
       "0                79   edm         0.760   0.964    2    -5.844     1   \n",
       "1                 3  rock         0.581   0.831    1    -8.045     1   \n",
       "2                 0   edm         0.661   0.760    8    -4.769     1   \n",
       "\n",
       "   speechiness  acousticness  instrumentalness  liveness  valence    tempo  \\\n",
       "0       0.0576      0.001820            0.7000    0.0974    0.641  125.000   \n",
       "1       0.1070      0.045800            0.0000    0.0782    0.885  144.684   \n",
       "2       0.0268      0.000406            0.0407    0.6110    0.439   99.993   \n",
       "\n",
       "   duration_ms  \n",
       "0       248036  \n",
       "1       168160  \n",
       "2       271238  "
      ]
     },
     "execution_count": 3,
     "metadata": {},
     "output_type": "execute_result"
    }
   ],
   "source": [
    "# View data first three rows\n",
    "\n",
    "songs_data.head(n=3) "
   ]
  },
  {
   "cell_type": "markdown",
   "metadata": {},
   "source": [
    "### Shape of data"
   ]
  },
  {
   "cell_type": "code",
   "execution_count": 4,
   "metadata": {},
   "outputs": [
    {
     "name": "stdout",
     "output_type": "stream",
     "text": [
      "(28396, 17)\n"
     ]
    }
   ],
   "source": [
    "print(songs_data.shape)"
   ]
  },
  {
   "cell_type": "markdown",
   "metadata": {},
   "source": [
    "### Indentifying Numerical and Non-Numerical Variables"
   ]
  },
  {
   "cell_type": "code",
   "execution_count": 5,
   "metadata": {},
   "outputs": [
    {
     "name": "stdout",
     "output_type": "stream",
     "text": [
      "<class 'pandas.core.frame.DataFrame'>\n",
      "RangeIndex: 28396 entries, 0 to 28395\n",
      "Data columns (total 17 columns):\n",
      " #   Column            Non-Null Count  Dtype  \n",
      "---  ------            --------------  -----  \n",
      " 0   track_id          28396 non-null  object \n",
      " 1   track_name        28392 non-null  object \n",
      " 2   track_artist      28392 non-null  object \n",
      " 3   track_popularity  28396 non-null  int64  \n",
      " 4   genre             28396 non-null  object \n",
      " 5   danceability      28396 non-null  float64\n",
      " 6   energy            28396 non-null  float64\n",
      " 7   key               28396 non-null  int64  \n",
      " 8   loudness          28396 non-null  float64\n",
      " 9   mode              28396 non-null  int64  \n",
      " 10  speechiness       28396 non-null  float64\n",
      " 11  acousticness      28396 non-null  float64\n",
      " 12  instrumentalness  28396 non-null  float64\n",
      " 13  liveness          28396 non-null  float64\n",
      " 14  valence           28396 non-null  float64\n",
      " 15  tempo             28396 non-null  float64\n",
      " 16  duration_ms       28396 non-null  int64  \n",
      "dtypes: float64(9), int64(4), object(4)\n",
      "memory usage: 3.7+ MB\n"
     ]
    }
   ],
   "source": [
    "songs_data.info()"
   ]
  },
  {
   "cell_type": "markdown",
   "metadata": {},
   "source": [
    "There are four object type variables; Including the Target (genre)"
   ]
  },
  {
   "cell_type": "markdown",
   "metadata": {},
   "source": [
    "### Low Variance"
   ]
  },
  {
   "cell_type": "code",
   "execution_count": 6,
   "metadata": {},
   "outputs": [
    {
     "data": {
      "text/html": [
       "<div>\n",
       "<style scoped>\n",
       "    .dataframe tbody tr th:only-of-type {\n",
       "        vertical-align: middle;\n",
       "    }\n",
       "\n",
       "    .dataframe tbody tr th {\n",
       "        vertical-align: top;\n",
       "    }\n",
       "\n",
       "    .dataframe thead th {\n",
       "        text-align: right;\n",
       "    }\n",
       "</style>\n",
       "<table border=\"1\" class=\"dataframe\">\n",
       "  <thead>\n",
       "    <tr style=\"text-align: right;\">\n",
       "      <th></th>\n",
       "      <th>track_popularity</th>\n",
       "      <th>danceability</th>\n",
       "      <th>energy</th>\n",
       "      <th>key</th>\n",
       "      <th>loudness</th>\n",
       "      <th>mode</th>\n",
       "      <th>speechiness</th>\n",
       "      <th>acousticness</th>\n",
       "      <th>instrumentalness</th>\n",
       "      <th>liveness</th>\n",
       "      <th>valence</th>\n",
       "      <th>tempo</th>\n",
       "      <th>duration_ms</th>\n",
       "    </tr>\n",
       "  </thead>\n",
       "  <tbody>\n",
       "    <tr>\n",
       "      <th>count</th>\n",
       "      <td>28396.000000</td>\n",
       "      <td>28396.000000</td>\n",
       "      <td>28396.000000</td>\n",
       "      <td>28396.000000</td>\n",
       "      <td>28396.000000</td>\n",
       "      <td>28396.000000</td>\n",
       "      <td>28396.000000</td>\n",
       "      <td>28396.000000</td>\n",
       "      <td>28396.000000</td>\n",
       "      <td>28396.000000</td>\n",
       "      <td>28396.000000</td>\n",
       "      <td>28396.000000</td>\n",
       "      <td>28396.000000</td>\n",
       "    </tr>\n",
       "    <tr>\n",
       "      <th>mean</th>\n",
       "      <td>39.336104</td>\n",
       "      <td>0.653386</td>\n",
       "      <td>0.698387</td>\n",
       "      <td>5.368256</td>\n",
       "      <td>-6.817541</td>\n",
       "      <td>0.565397</td>\n",
       "      <td>0.107990</td>\n",
       "      <td>0.177263</td>\n",
       "      <td>0.091143</td>\n",
       "      <td>0.190986</td>\n",
       "      <td>0.510434</td>\n",
       "      <td>120.955390</td>\n",
       "      <td>226575.367094</td>\n",
       "    </tr>\n",
       "    <tr>\n",
       "      <th>std</th>\n",
       "      <td>23.706486</td>\n",
       "      <td>0.145799</td>\n",
       "      <td>0.183484</td>\n",
       "      <td>3.613898</td>\n",
       "      <td>3.036443</td>\n",
       "      <td>0.495714</td>\n",
       "      <td>0.102623</td>\n",
       "      <td>0.222908</td>\n",
       "      <td>0.232566</td>\n",
       "      <td>0.156015</td>\n",
       "      <td>0.234309</td>\n",
       "      <td>26.957635</td>\n",
       "      <td>61076.581384</td>\n",
       "    </tr>\n",
       "    <tr>\n",
       "      <th>min</th>\n",
       "      <td>0.000000</td>\n",
       "      <td>0.000000</td>\n",
       "      <td>0.000175</td>\n",
       "      <td>0.000000</td>\n",
       "      <td>-46.448000</td>\n",
       "      <td>0.000000</td>\n",
       "      <td>0.000000</td>\n",
       "      <td>0.000000</td>\n",
       "      <td>0.000000</td>\n",
       "      <td>0.000000</td>\n",
       "      <td>0.000000</td>\n",
       "      <td>0.000000</td>\n",
       "      <td>4000.000000</td>\n",
       "    </tr>\n",
       "    <tr>\n",
       "      <th>25%</th>\n",
       "      <td>21.000000</td>\n",
       "      <td>0.561000</td>\n",
       "      <td>0.579000</td>\n",
       "      <td>2.000000</td>\n",
       "      <td>-8.309000</td>\n",
       "      <td>0.000000</td>\n",
       "      <td>0.041000</td>\n",
       "      <td>0.014400</td>\n",
       "      <td>0.000000</td>\n",
       "      <td>0.092600</td>\n",
       "      <td>0.329000</td>\n",
       "      <td>99.972000</td>\n",
       "      <td>187766.500000</td>\n",
       "    </tr>\n",
       "    <tr>\n",
       "      <th>50%</th>\n",
       "      <td>42.000000</td>\n",
       "      <td>0.670000</td>\n",
       "      <td>0.722000</td>\n",
       "      <td>6.000000</td>\n",
       "      <td>-6.262000</td>\n",
       "      <td>1.000000</td>\n",
       "      <td>0.062700</td>\n",
       "      <td>0.079700</td>\n",
       "      <td>0.000021</td>\n",
       "      <td>0.127000</td>\n",
       "      <td>0.512000</td>\n",
       "      <td>121.993000</td>\n",
       "      <td>216921.000000</td>\n",
       "    </tr>\n",
       "    <tr>\n",
       "      <th>75%</th>\n",
       "      <td>58.000000</td>\n",
       "      <td>0.760000</td>\n",
       "      <td>0.843000</td>\n",
       "      <td>9.000000</td>\n",
       "      <td>-4.708750</td>\n",
       "      <td>1.000000</td>\n",
       "      <td>0.133000</td>\n",
       "      <td>0.260000</td>\n",
       "      <td>0.006573</td>\n",
       "      <td>0.249000</td>\n",
       "      <td>0.695000</td>\n",
       "      <td>133.999500</td>\n",
       "      <td>254965.500000</td>\n",
       "    </tr>\n",
       "    <tr>\n",
       "      <th>max</th>\n",
       "      <td>100.000000</td>\n",
       "      <td>0.983000</td>\n",
       "      <td>1.000000</td>\n",
       "      <td>11.000000</td>\n",
       "      <td>1.275000</td>\n",
       "      <td>1.000000</td>\n",
       "      <td>0.918000</td>\n",
       "      <td>0.994000</td>\n",
       "      <td>0.994000</td>\n",
       "      <td>0.996000</td>\n",
       "      <td>0.991000</td>\n",
       "      <td>239.440000</td>\n",
       "      <td>517810.000000</td>\n",
       "    </tr>\n",
       "  </tbody>\n",
       "</table>\n",
       "</div>"
      ],
      "text/plain": [
       "       track_popularity  danceability        energy           key  \\\n",
       "count      28396.000000  28396.000000  28396.000000  28396.000000   \n",
       "mean          39.336104      0.653386      0.698387      5.368256   \n",
       "std           23.706486      0.145799      0.183484      3.613898   \n",
       "min            0.000000      0.000000      0.000175      0.000000   \n",
       "25%           21.000000      0.561000      0.579000      2.000000   \n",
       "50%           42.000000      0.670000      0.722000      6.000000   \n",
       "75%           58.000000      0.760000      0.843000      9.000000   \n",
       "max          100.000000      0.983000      1.000000     11.000000   \n",
       "\n",
       "           loudness          mode   speechiness  acousticness  \\\n",
       "count  28396.000000  28396.000000  28396.000000  28396.000000   \n",
       "mean      -6.817541      0.565397      0.107990      0.177263   \n",
       "std        3.036443      0.495714      0.102623      0.222908   \n",
       "min      -46.448000      0.000000      0.000000      0.000000   \n",
       "25%       -8.309000      0.000000      0.041000      0.014400   \n",
       "50%       -6.262000      1.000000      0.062700      0.079700   \n",
       "75%       -4.708750      1.000000      0.133000      0.260000   \n",
       "max        1.275000      1.000000      0.918000      0.994000   \n",
       "\n",
       "       instrumentalness      liveness       valence         tempo  \\\n",
       "count      28396.000000  28396.000000  28396.000000  28396.000000   \n",
       "mean           0.091143      0.190986      0.510434    120.955390   \n",
       "std            0.232566      0.156015      0.234309     26.957635   \n",
       "min            0.000000      0.000000      0.000000      0.000000   \n",
       "25%            0.000000      0.092600      0.329000     99.972000   \n",
       "50%            0.000021      0.127000      0.512000    121.993000   \n",
       "75%            0.006573      0.249000      0.695000    133.999500   \n",
       "max            0.994000      0.996000      0.991000    239.440000   \n",
       "\n",
       "         duration_ms  \n",
       "count   28396.000000  \n",
       "mean   226575.367094  \n",
       "std     61076.581384  \n",
       "min      4000.000000  \n",
       "25%    187766.500000  \n",
       "50%    216921.000000  \n",
       "75%    254965.500000  \n",
       "max    517810.000000  "
      ]
     },
     "execution_count": 6,
     "metadata": {},
     "output_type": "execute_result"
    }
   ],
   "source": [
    "songs_data.describe()"
   ]
  },
  {
   "cell_type": "code",
   "execution_count": 7,
   "metadata": {},
   "outputs": [
    {
     "name": "stdout",
     "output_type": "stream",
     "text": [
      "number of low variance features: 0\n",
      "low variance features: []\n"
     ]
    },
    {
     "name": "stderr",
     "output_type": "stream",
     "text": [
      "C:\\Users\\anaga\\MachineLearningProject\\machine-learning\\src\\helpers.py:135: FutureWarning: Dropping of nuisance columns in DataFrame reductions (with 'numeric_only=None') is deprecated; in a future version this will raise TypeError.  Select only valid columns before calling the reduction.\n",
      "  std_df = pd.DataFrame(df.std()).rename(columns = {0: 'standard_deviation'})\n"
     ]
    },
    {
     "data": {
      "text/plain": [
       "[]"
      ]
     },
     "execution_count": 7,
     "metadata": {},
     "output_type": "execute_result"
    }
   ],
   "source": [
    "identify_low_variance_features(songs_data, std_threshold=0.01)"
   ]
  }
 ],
 "metadata": {
  "kernelspec": {
   "display_name": "Python 3 (ipykernel)",
   "language": "python",
   "name": "python3"
  },
  "language_info": {
   "codemirror_mode": {
    "name": "ipython",
    "version": 3
   },
   "file_extension": ".py",
   "mimetype": "text/x-python",
   "name": "python",
   "nbconvert_exporter": "python",
   "pygments_lexer": "ipython3",
   "version": "3.9.12"
  },
  "vscode": {
   "interpreter": {
    "hash": "369f2c481f4da34e4445cda3fffd2e751bd1c4d706f27375911949ba6bb62e1c"
   }
  }
 },
 "nbformat": 4,
 "nbformat_minor": 2
}
